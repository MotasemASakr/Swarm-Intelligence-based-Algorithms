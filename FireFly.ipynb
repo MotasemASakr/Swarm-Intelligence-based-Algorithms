{
 "cells": [
  {
   "cell_type": "markdown",
   "metadata": {},
   "source": [
    "# Firefly"
   ]
  },
  {
   "cell_type": "markdown",
   "metadata": {},
   "source": [
    "Firefly is a natural inspired metaheuristic search algorithm and its idea is that the fireflies (aka solutions) get attracted to the most luminous solution (aka fly) and try to follow that solution. Fireflies in natural don't get attracted to luminous objects but actualy get repulsed by lighting but for pedagogical reasons we assume that light attracts fireflies."
   ]
  },
  {
   "cell_type": "markdown",
   "metadata": {},
   "source": [
    "__FIRE-FLY__(_source_ , _destination_ , _num of iterations_ , _num of flies_ ) __returns__ a solution/route    \n",
    "&emsp;generate _num of flies_ random solutions/routes between _source_ and _destination_  \n",
    "&emsp;__for__ _num of iterations_ __do__  \n",
    "&emsp;&emsp;__for__ i __of__ _num of flies_ __do__  \n",
    "&emsp;&emsp;initialize _attractivness_ list for the other fireflies relative to the fly _i_  \n",
    "&emsp;&emsp;&emsp;__for__ j __of__ _num of flies_ __do__  \n",
    "&emsp;&emsp;&emsp;&emsp; __if__ i \\= j __skip this iteration__ &emsp;&emsp;&emsp;&emsp;&emsp;// so we don't move fly in the direction of itself  \n",
    "&emsp;&emsp;&emsp;&emsp; _attractivness_ \\[j\\] \\= _luminosity_ of fly j relative to i  \n",
    "&emsp;&emsp;&emsp;_move_ fly _i_ to fly _j_ which is the most luminous fly relative to it  \n",
    "&emsp;&emsp;__return__ the most _luminous_ fly "
   ]
  },
  {
   "cell_type": "markdown",
   "metadata": {},
   "source": [
    "We will be doing shortest path problem as usual so our solution would be a route and _moving_ would be between fly/route to another fly/route, it would be just like doing crossover between the two lists/routes and substitute the moving route with the child of the crossover. __But__ the function of luminosity wouldn't be that the shorter of two paths would be more luminous and attractive.  \n",
    "\n",
    "Navigation apps usually find the path to be travelled with algorithms like contractions hierarchy or graph neural networks which offers near exact solutions (or excat in the case of CH). But they learned that the best way to travel is not just the shortest path but althought the path that has fewer turns and the path the doesn't go into residence areas, read more in this article [your navigation app is making traffic unmanageable](https://spectrum.ieee.org/computing/hardware/your-navigation-app-is-making-traffic-unmanageable).\n",
    "\n",
    "What can we do in our objective function so we don't always favor the shortest path without the need for massive datacenters. We can incorporate the value of how much the route doesn't have turns by counting the number of nodes in the route. If you go digging through `osmnx` source code and inspect how it parses osm data and filter them and remove unnecesary data to the topology of the graph generated, remember `simplify` option in [`osmnx.graph`](https://osmnx.readthedocs.io/en/stable/osmnx.html#module-osmnx.graph) module functions. you will find that library gives us nodes that changes the direction of a given road.  \n",
    "\n",
    "_luminous_ function would be equal to the length of the route plus the number of nodes, because we are trying to minizing both of them and because the paths in our search space are relatively close to each other the addition of the number of nodes would make a difference.\n",
    "\n",
    "We also need to have a notion of distance between two solutions/routes and that would be the number of common nodes between them."
   ]
  },
  {
   "cell_type": "code",
   "execution_count": null,
   "metadata": {},
   "outputs": [],
   "source": [
    "import osmnx as ox\n",
    "from utilities import *\n",
    "from itertools import filterfalse"
   ]
  },
  {
   "cell_type": "code",
   "execution_count": null,
   "metadata": {},
   "outputs": [],
   "source": [
    "location_point = (43.661667, -79.395)\n",
    "G = ox.graph_from_point(location_point, dist=300, clean_periphery=True, simplify=True)\n",
    "graph_map = ox.plot_graph_folium(G, popup_attribute='name', edge_width=2)\n",
    "fig, ax = ox.plot_graph(G)"
   ]
  },
  {
   "cell_type": "code",
   "execution_count": null,
   "metadata": {},
   "outputs": [],
   "source": [
    "# marking both the source and destination node\n",
    "\n",
    "nc = ['r' if node == 389677909 or node == 55808290 else '#336699' for node in G.nodes()]\n",
    "ns = [50 if node == 389677909 or node == 55808290 else 8 for node in G.nodes()]\n",
    "fig, ax = ox.plot_graph(G, node_size=ns, node_color=nc, node_zorder=2)"
   ]
  },
  {
   "cell_type": "markdown",
   "metadata": {},
   "source": [
    "let's define the move function and luminosity function"
   ]
  },
  {
   "cell_type": "code",
   "execution_count": null,
   "metadata": {},
   "outputs": [],
   "source": [
    "move = cross_over  # we want to merge two routes so cross_over function explained in GA notebook is enough\n",
    "\n",
    "# the length of the route + number of curves and intersection of the route\n",
    "def luminosity(G, route):\n",
    "    return cost(G, route) + len(route)\n",
    "\n",
    "# number of common nodes between two routes\n",
    "def distance(route1, route2):\n",
    "    return len(set(route1) & set(route2))"
   ]
  },
  {
   "cell_type": "code",
   "execution_count": null,
   "metadata": {},
   "outputs": [],
   "source": [
    "num_of_iterations = 100\n",
    "num_of_flies = 25\n",
    "# initialize our starting population\n",
    "flies = [randomized_search(G, 55808290, 389677909) for _ in range(num_of_iterations)]"
   ]
  },
  {
   "cell_type": "markdown",
   "metadata": {},
   "source": [
    "fly _i_ perceives fly _j_ from distance we will have the final luminosity function to be the independent luminosity multiplied by factor dependet on the distance between the two flies, so $${luminosity}_{i} = {luminosity}_{j}*{e}^{-\\gamma * distance}$$ and this gamma is the attractiveness coefficient between the flies which will be assumed constant to simplify the implementation."
   ]
  },
  {
   "cell_type": "code",
   "execution_count": null,
   "metadata": {},
   "outputs": [],
   "source": [
    "gamma = 2"
   ]
  },
  {
   "cell_type": "markdown",
   "metadata": {},
   "source": [
    "## The Algorithm"
   ]
  },
  {
   "cell_type": "code",
   "execution_count": null,
   "metadata": {},
   "outputs": [],
   "source": [
    "for _ in tqdm(range(num_of_iterations)):\n",
    "    for i in range(num_of_flies):\n",
    "        flies_luminosity = list() # for all flies except i\n",
    "        for j in range(num_of_flies):\n",
    "            if i == j: continue # skips getting luminosity of fly i\n",
    "            flies_luminosity.append((j , luminosity(G, flies[j]))) # saving both the fly and its luminosity\n",
    "        moving_fly = flies[i]\n",
    "        # remember that the shortest path and the fewest number of nodes is more luminous for us\n",
    "        # in this problem, hence using min function instead of max\n",
    "        moving_to_fly = min(flies_luminosity, key = lambda fly : fly[1] * math.exp(-1 * gamma * distance(moving_fly, flies[fly[0]])))\n",
    "        moving_to_fly = flies[moving_to_fly[0]]\n",
    "        # updating\n",
    "        flies[i] = move(moving_fly, moving_to_fly)"
   ]
  },
  {
   "cell_type": "markdown",
   "metadata": {},
   "source": [
    "let's find out the most luminous fly"
   ]
  },
  {
   "cell_type": "code",
   "execution_count": null,
   "metadata": {},
   "outputs": [],
   "source": [
    "route = min(flies, key = lambda fly : luminosity(G, fly))"
   ]
  },
  {
   "cell_type": "code",
   "execution_count": null,
   "metadata": {},
   "outputs": [],
   "source": [
    "cost(G, route)"
   ]
  },
  {
   "cell_type": "code",
   "execution_count": null,
   "metadata": {},
   "outputs": [],
   "source": [
    "fig, ax = ox.plot_graph_route(G, route)"
   ]
  }
 ],
 "metadata": {
  "kernelspec": {
   "display_name": "Python 3",
   "language": "python",
   "name": "python3"
  },
  "language_info": {
   "codemirror_mode": {
    "name": "ipython",
    "version": 3
   },
   "file_extension": ".py",
   "mimetype": "text/x-python",
   "name": "python",
   "nbconvert_exporter": "python",
   "pygments_lexer": "ipython3",
   "version": "3.9.0"
  }
 },
 "nbformat": 4,
 "nbformat_minor": 4
}
